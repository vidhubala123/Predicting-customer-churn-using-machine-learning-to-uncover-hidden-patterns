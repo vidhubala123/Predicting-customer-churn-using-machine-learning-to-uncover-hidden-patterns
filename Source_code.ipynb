{
  "nbformat": 4,
  "nbformat_minor": 0,
  "metadata": {
    "colab": {
      "provenance": [],
      "authorship_tag": "ABX9TyMdm+S+lxhgq9mv1auMaspO",
      "include_colab_link": true
    },
    "kernelspec": {
      "name": "python3",
      "display_name": "Python 3"
    },
    "language_info": {
      "name": "python"
    }
  },
  "cells": [
    {
      "cell_type": "markdown",
      "metadata": {
        "id": "view-in-github",
        "colab_type": "text"
      },
      "source": [
        "<a href=\"https://colab.research.google.com/github/vidhubala123/Predicting-customer-churn-using-machine-learning-to-uncover-hidden-patterns/blob/main/Source_code.ipynb\" target=\"_parent\"><img src=\"https://colab.research.google.com/assets/colab-badge.svg\" alt=\"Open In Colab\"/></a>"
      ]
    },
    {
      "cell_type": "code",
      "execution_count": 1,
      "metadata": {
        "colab": {
          "base_uri": "https://localhost:8080/"
        },
        "id": "q-U2jZSb1ATo",
        "outputId": "4b25a95f-c2de-41d2-9bff-318dee1e3923"
      },
      "outputs": [
        {
          "output_type": "stream",
          "name": "stdout",
          "text": [
            "Confusion Matrix:\n",
            " [[1 0]\n",
            " [1 0]]\n",
            "\n",
            "Classification Report:\n",
            "               precision    recall  f1-score   support\n",
            "\n",
            "           0       0.50      1.00      0.67         1\n",
            "           1       0.00      0.00      0.00         1\n",
            "\n",
            "    accuracy                           0.50         2\n",
            "   macro avg       0.25      0.50      0.33         2\n",
            "weighted avg       0.25      0.50      0.33         2\n",
            "\n",
            "\n",
            "Churn Prediction for new customer: No Churn\n"
          ]
        }
      ],
      "source": [
        "\n",
        "# churn_prediction_clean.py\n",
        "import pandas as pd\n",
        "from sklearn.model_selection import train_test_split\n",
        "from sklearn.ensemble import RandomForestClassifier\n",
        "from sklearn.metrics import classification_report, confusion_matrix\n",
        "\n",
        "# Sample data\n",
        "data = {\n",
        "    'Tenure': [1, 12, 24, 36, 48, 60],\n",
        "    'MonthlyCharges': [29.85, 56.95, 53.85, 42.30, 70.70, 99.65],\n",
        "    'TotalCharges': [29.85, 682.95, 1295.70, 1522.20, 3393.30, 5979.00],\n",
        "    'Churn': [1, 0, 0, 0, 1, 1]\n",
        "}\n",
        "\n",
        "df = pd.DataFrame(data)\n",
        "\n",
        "# Features and label\n",
        "X = df.drop('Churn', axis=1)\n",
        "y = df['Churn']\n",
        "\n",
        "# Train-test split\n",
        "X_train, X_test, y_train, y_test = train_test_split(X, y, test_size=0.3, random_state=42)\n",
        "\n",
        "# Model training\n",
        "model = RandomForestClassifier(n_estimators=100, random_state=42)\n",
        "model.fit(X_train, y_train)\n",
        "\n",
        "# Predictions\n",
        "y_pred = model.predict(X_test)\n",
        "\n",
        "# Evaluation\n",
        "print(\"Confusion Matrix:\\n\", confusion_matrix(y_test, y_pred))\n",
        "print(\"\\nClassification Report:\\n\", classification_report(y_test, y_pred, zero_division=0))\n",
        "\n",
        "# Predict for new customer\n",
        "new_customer = pd.DataFrame([[30, 65.50, 1965.0]], columns=['Tenure', 'MonthlyCharges', 'TotalCharges'])\n",
        "prediction = model.predict(new_customer)\n",
        "print(\"\\nChurn Prediction for new customer:\", \"Churn\" if prediction[0] == 1 else \"No Churn\")"
      ]
    }
  ]
}